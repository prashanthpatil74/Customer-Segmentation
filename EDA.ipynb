{
 "cells": [
  {
   "cell_type": "code",
   "execution_count": 1,
   "id": "14671469-8213-439f-9641-02c72d7993b9",
   "metadata": {},
   "outputs": [],
   "source": [
    "import pandas as pd\n",
    "import numpy as np\n",
    "import matplotlib.pyplot as plt\n",
    "import seaborn as sns"
   ]
  },
  {
   "cell_type": "code",
   "execution_count": 3,
   "id": "cccb4591-10c3-42b3-9178-dfd4a9f53dc2",
   "metadata": {},
   "outputs": [],
   "source": [
    "customers = pd.read_csv(\"P:\\\\Downloads\\\\Customers.csv\")\n",
    "products = pd.read_csv(\"P:\\\\Downloads\\\\Products.csv\")\n",
    "transactions = pd.read_csv(\"P:\\\\Downloads\\\\Transactions.csv\")"
   ]
  },
  {
   "cell_type": "markdown",
   "id": "b82138fa-e630-4b6b-a409-567127c260e9",
   "metadata": {},
   "source": [
    "#  EDA of Customers"
   ]
  },
  {
   "cell_type": "code",
   "execution_count": 6,
   "id": "95e2afa8-5031-4a47-ba9e-fa4d9224a31c",
   "metadata": {},
   "outputs": [
    {
     "data": {
      "text/html": [
       "<div>\n",
       "<style scoped>\n",
       "    .dataframe tbody tr th:only-of-type {\n",
       "        vertical-align: middle;\n",
       "    }\n",
       "\n",
       "    .dataframe tbody tr th {\n",
       "        vertical-align: top;\n",
       "    }\n",
       "\n",
       "    .dataframe thead th {\n",
       "        text-align: right;\n",
       "    }\n",
       "</style>\n",
       "<table border=\"1\" class=\"dataframe\">\n",
       "  <thead>\n",
       "    <tr style=\"text-align: right;\">\n",
       "      <th></th>\n",
       "      <th>CustomerID</th>\n",
       "      <th>CustomerName</th>\n",
       "      <th>Region</th>\n",
       "      <th>SignupDate</th>\n",
       "    </tr>\n",
       "  </thead>\n",
       "  <tbody>\n",
       "    <tr>\n",
       "      <th>0</th>\n",
       "      <td>C0001</td>\n",
       "      <td>Lawrence Carroll</td>\n",
       "      <td>South America</td>\n",
       "      <td>2022-07-10</td>\n",
       "    </tr>\n",
       "    <tr>\n",
       "      <th>1</th>\n",
       "      <td>C0002</td>\n",
       "      <td>Elizabeth Lutz</td>\n",
       "      <td>Asia</td>\n",
       "      <td>2022-02-13</td>\n",
       "    </tr>\n",
       "    <tr>\n",
       "      <th>2</th>\n",
       "      <td>C0003</td>\n",
       "      <td>Michael Rivera</td>\n",
       "      <td>South America</td>\n",
       "      <td>2024-03-07</td>\n",
       "    </tr>\n",
       "    <tr>\n",
       "      <th>3</th>\n",
       "      <td>C0004</td>\n",
       "      <td>Kathleen Rodriguez</td>\n",
       "      <td>South America</td>\n",
       "      <td>2022-10-09</td>\n",
       "    </tr>\n",
       "    <tr>\n",
       "      <th>4</th>\n",
       "      <td>C0005</td>\n",
       "      <td>Laura Weber</td>\n",
       "      <td>Asia</td>\n",
       "      <td>2022-08-15</td>\n",
       "    </tr>\n",
       "  </tbody>\n",
       "</table>\n",
       "</div>"
      ],
      "text/plain": [
       "  CustomerID        CustomerName         Region  SignupDate\n",
       "0      C0001    Lawrence Carroll  South America  2022-07-10\n",
       "1      C0002      Elizabeth Lutz           Asia  2022-02-13\n",
       "2      C0003      Michael Rivera  South America  2024-03-07\n",
       "3      C0004  Kathleen Rodriguez  South America  2022-10-09\n",
       "4      C0005         Laura Weber           Asia  2022-08-15"
      ]
     },
     "execution_count": 6,
     "metadata": {},
     "output_type": "execute_result"
    }
   ],
   "source": [
    "customers.head()"
   ]
  },
  {
   "cell_type": "code",
   "execution_count": 8,
   "id": "39e915b6-999c-4c39-a24c-eca5fc5aefe5",
   "metadata": {},
   "outputs": [
    {
     "data": {
      "text/plain": [
       "(200, 4)"
      ]
     },
     "execution_count": 8,
     "metadata": {},
     "output_type": "execute_result"
    }
   ],
   "source": [
    "customers.shape"
   ]
  },
  {
   "cell_type": "code",
   "execution_count": 10,
   "id": "8cefd25f-c62b-4df2-a3ff-05e54bd269a9",
   "metadata": {},
   "outputs": [
    {
     "name": "stdout",
     "output_type": "stream",
     "text": [
      "<class 'pandas.core.frame.DataFrame'>\n",
      "RangeIndex: 200 entries, 0 to 199\n",
      "Data columns (total 4 columns):\n",
      " #   Column        Non-Null Count  Dtype \n",
      "---  ------        --------------  ----- \n",
      " 0   CustomerID    200 non-null    object\n",
      " 1   CustomerName  200 non-null    object\n",
      " 2   Region        200 non-null    object\n",
      " 3   SignupDate    200 non-null    object\n",
      "dtypes: object(4)\n",
      "memory usage: 6.4+ KB\n"
     ]
    }
   ],
   "source": [
    "customers.info()"
   ]
  },
  {
   "cell_type": "code",
   "execution_count": 12,
   "id": "802041f6-04e7-41c0-a1df-a41c78557d0e",
   "metadata": {},
   "outputs": [],
   "source": [
    "customers['SignupDate'] = pd.to_datetime(customers['SignupDate'], errors='coerce')"
   ]
  },
  {
   "cell_type": "code",
   "execution_count": 14,
   "id": "686323ec-20e5-47df-bbc9-49a606b3a641",
   "metadata": {},
   "outputs": [
    {
     "data": {
      "text/plain": [
       "CustomerID      0\n",
       "CustomerName    0\n",
       "Region          0\n",
       "SignupDate      0\n",
       "dtype: int64"
      ]
     },
     "execution_count": 14,
     "metadata": {},
     "output_type": "execute_result"
    }
   ],
   "source": [
    "customers.isnull().sum()"
   ]
  },
  {
   "cell_type": "code",
   "execution_count": 16,
   "id": "2d63e910-2a0c-4b5d-8598-ddcd43b1f4e3",
   "metadata": {},
   "outputs": [
    {
     "data": {
      "text/plain": [
       "array(['South America', 'Asia', 'North America', 'Europe'], dtype=object)"
      ]
     },
     "execution_count": 16,
     "metadata": {},
     "output_type": "execute_result"
    }
   ],
   "source": [
    "customers['Region'].unique()"
   ]
  },
  {
   "cell_type": "code",
   "execution_count": 18,
   "id": "b99a5653-c697-4775-b466-a6baf0b8cf7a",
   "metadata": {},
   "outputs": [
    {
     "data": {
      "text/plain": [
       "Region\n",
       "South America    59\n",
       "Europe           50\n",
       "North America    46\n",
       "Asia             45\n",
       "Name: count, dtype: int64"
      ]
     },
     "execution_count": 18,
     "metadata": {},
     "output_type": "execute_result"
    }
   ],
   "source": [
    "customers['Region'].value_counts()"
   ]
  },
  {
   "cell_type": "code",
   "execution_count": 20,
   "id": "731e281b-52d6-46ce-9d64-aa6749d6d743",
   "metadata": {},
   "outputs": [
    {
     "name": "stderr",
     "output_type": "stream",
     "text": [
      "C:\\Users\\Lenovo\\AppData\\Local\\Temp\\ipykernel_68\\1367407783.py:2: FutureWarning: \n",
      "\n",
      "Passing `palette` without assigning `hue` is deprecated and will be removed in v0.14.0. Assign the `x` variable to `hue` and set `legend=False` for the same effect.\n",
      "\n",
      "  sns.countplot(data=customers, x='Region', palette='viridis')\n"
     ]
    },
    {
     "data": {
      "image/png": "[encoded data removed]",
      "text/plain": [
       "<Figure size 800x500 with 1 Axes>"
      ]
     },
     "metadata": {},
     "output_type": "display_data"
    }
   ],
   "source": [
    "plt.figure(figsize=(8, 5))\n",
    "sns.countplot(data=customers, x='Region', palette='viridis')\n",
    "plt.title('Customer Distribution by Region', fontsize=14)\n",
    "plt.ylabel('Number of Customers')\n",
    "plt.xlabel('Region')\n",
    "plt.show()"
   ]
  },
  {
   "cell_type": "markdown",
   "id": "f4bddba0-72c6-48fc-abc4-d7710a0792c9",
   "metadata": {},
   "source": [
    "#  Customer Distribution by Region:\n",
    "\n",
    "* Majority of customers are from South America, followed by Asia, Europe, and North America."
   ]
  },
  {
   "cell_type": "code",
   "execution_count": 23,
   "id": "912996bd-d599-4615-b5f1-abbd0c9e3327",
   "metadata": {},
   "outputs": [
    {
     "data": {
      "text/html": [
       "<div>\n",
       "<style scoped>\n",
       "    .dataframe tbody tr th:only-of-type {\n",
       "        vertical-align: middle;\n",
       "    }\n",
       "\n",
       "    .dataframe tbody tr th {\n",
       "        vertical-align: top;\n",
       "    }\n",
       "\n",
       "    .dataframe thead th {\n",
       "        text-align: right;\n",
       "    }\n",
       "</style>\n",
       "<table border=\"1\" class=\"dataframe\">\n",
       "  <thead>\n",
       "    <tr style=\"text-align: right;\">\n",
       "      <th></th>\n",
       "      <th>count</th>\n",
       "      <th>unique</th>\n",
       "      <th>top</th>\n",
       "      <th>freq</th>\n",
       "      <th>mean</th>\n",
       "      <th>min</th>\n",
       "      <th>25%</th>\n",
       "      <th>50%</th>\n",
       "      <th>75%</th>\n",
       "      <th>max</th>\n",
       "    </tr>\n",
       "  </thead>\n",
       "  <tbody>\n",
       "    <tr>\n",
       "      <th>CustomerID</th>\n",
       "      <td>200</td>\n",
       "      <td>200</td>\n",
       "      <td>C0001</td>\n",
       "      <td>1</td>\n",
       "      <td>NaN</td>\n",
       "      <td>NaN</td>\n",
       "      <td>NaN</td>\n",
       "      <td>NaN</td>\n",
       "      <td>NaN</td>\n",
       "      <td>NaN</td>\n",
       "    </tr>\n",
       "    <tr>\n",
       "      <th>CustomerName</th>\n",
       "      <td>200</td>\n",
       "      <td>200</td>\n",
       "      <td>Lawrence Carroll</td>\n",
       "      <td>1</td>\n",
       "      <td>NaN</td>\n",
       "      <td>NaN</td>\n",
       "      <td>NaN</td>\n",
       "      <td>NaN</td>\n",
       "      <td>NaN</td>\n",
       "      <td>NaN</td>\n",
       "    </tr>\n",
       "    <tr>\n",
       "      <th>Region</th>\n",
       "      <td>200</td>\n",
       "      <td>4</td>\n",
       "      <td>South America</td>\n",
       "      <td>59</td>\n",
       "      <td>NaN</td>\n",
       "      <td>NaN</td>\n",
       "      <td>NaN</td>\n",
       "      <td>NaN</td>\n",
       "      <td>NaN</td>\n",
       "      <td>NaN</td>\n",
       "    </tr>\n",
       "    <tr>\n",
       "      <th>SignupDate</th>\n",
       "      <td>200</td>\n",
       "      <td>NaN</td>\n",
       "      <td>NaN</td>\n",
       "      <td>NaN</td>\n",
       "      <td>2023-07-19 08:31:12</td>\n",
       "      <td>2022-01-22 00:00:00</td>\n",
       "      <td>2022-09-26 12:00:00</td>\n",
       "      <td>2023-08-31 12:00:00</td>\n",
       "      <td>2024-04-12 12:00:00</td>\n",
       "      <td>2024-12-28 00:00:00</td>\n",
       "    </tr>\n",
       "  </tbody>\n",
       "</table>\n",
       "</div>"
      ],
      "text/plain": [
       "             count unique               top freq                 mean  \\\n",
       "CustomerID     200    200             C0001    1                  NaN   \n",
       "CustomerName   200    200  Lawrence Carroll    1                  NaN   \n",
       "Region         200      4     South America   59                  NaN   \n",
       "SignupDate     200    NaN               NaN  NaN  2023-07-19 08:31:12   \n",
       "\n",
       "                              min                  25%                  50%  \\\n",
       "CustomerID                    NaN                  NaN                  NaN   \n",
       "CustomerName                  NaN                  NaN                  NaN   \n",
       "Region                        NaN                  NaN                  NaN   \n",
       "SignupDate    2022-01-22 00:00:00  2022-09-26 12:00:00  2023-08-31 12:00:00   \n",
       "\n",
       "                              75%                  max  \n",
       "CustomerID                    NaN                  NaN  \n",
       "CustomerName                  NaN                  NaN  \n",
       "Region                        NaN                  NaN  \n",
       "SignupDate    2024-04-12 12:00:00  2024-12-28 00:00:00  "
      ]
     },
     "execution_count": 23,
     "metadata": {},
     "output_type": "execute_result"
    }
   ],
   "source": [
    "customers.describe(include='all').T"
   ]
  },
  {
   "cell_type": "markdown",
   "id": "b97827e9-5b68-491c-bb60-8b4acf13b581",
   "metadata": {},
   "source": [
    "#  EDA of Products"
   ]
  },
  {
   "cell_type": "code",
   "execution_count": 26,
   "id": "45a4be09-12a9-45a8-b542-5824f42cf25a",
   "metadata": {},
   "outputs": [
    {
     "data": {
      "text/html": [
       "<div>\n",
       "<style scoped>\n",
       "    .dataframe tbody tr th:only-of-type {\n",
       "        vertical-align: middle;\n",
       "    }\n",
       "\n",
       "    .dataframe tbody tr th {\n",
       "        vertical-align: top;\n",
       "    }\n",
       "\n",
       "    .dataframe thead th {\n",
       "        text-align: right;\n",
       "    }\n",
       "</style>\n",
       "<table border=\"1\" class=\"dataframe\">\n",
       "  <thead>\n",
       "    <tr style=\"text-align: right;\">\n",
       "      <th></th>\n",
       "      <th>ProductID</th>\n",
       "      <th>ProductName</th>\n",
       "      <th>Category</th>\n",
       "      <th>Price</th>\n",
       "    </tr>\n",
       "  </thead>\n",
       "  <tbody>\n",
       "    <tr>\n",
       "      <th>0</th>\n",
       "      <td>P001</td>\n",
       "      <td>ActiveWear Biography</td>\n",
       "      <td>Books</td>\n",
       "      <td>169.30</td>\n",
       "    </tr>\n",
       "    <tr>\n",
       "      <th>1</th>\n",
       "      <td>P002</td>\n",
       "      <td>ActiveWear Smartwatch</td>\n",
       "      <td>Electronics</td>\n",
       "      <td>346.30</td>\n",
       "    </tr>\n",
       "    <tr>\n",
       "      <th>2</th>\n",
       "      <td>P003</td>\n",
       "      <td>ComfortLiving Biography</td>\n",
       "      <td>Books</td>\n",
       "      <td>44.12</td>\n",
       "    </tr>\n",
       "    <tr>\n",
       "      <th>3</th>\n",
       "      <td>P004</td>\n",
       "      <td>BookWorld Rug</td>\n",
       "      <td>Home Decor</td>\n",
       "      <td>95.69</td>\n",
       "    </tr>\n",
       "    <tr>\n",
       "      <th>4</th>\n",
       "      <td>P005</td>\n",
       "      <td>TechPro T-Shirt</td>\n",
       "      <td>Clothing</td>\n",
       "      <td>429.31</td>\n",
       "    </tr>\n",
       "  </tbody>\n",
       "</table>\n",
       "</div>"
      ],
      "text/plain": [
       "  ProductID              ProductName     Category   Price\n",
       "0      P001     ActiveWear Biography        Books  169.30\n",
       "1      P002    ActiveWear Smartwatch  Electronics  346.30\n",
       "2      P003  ComfortLiving Biography        Books   44.12\n",
       "3      P004            BookWorld Rug   Home Decor   95.69\n",
       "4      P005          TechPro T-Shirt     Clothing  429.31"
      ]
     },
     "execution_count": 26,
     "metadata": {},
     "output_type": "execute_result"
    }
   ],
   "source": [
    "products.head()"
   ]
  },
  {
   "cell_type": "code",
   "execution_count": 28,
   "id": "ce6d6dae-1011-4c35-8664-9b9cb51793d9",
   "metadata": {},
   "outputs": [
    {
     "data": {
      "text/plain": [
       "(100, 4)"
      ]
     },
     "execution_count": 28,
     "metadata": {},
     "output_type": "execute_result"
    }
   ],
   "source": [
    "products.shape"
   ]
  },
  {
   "cell_type": "code",
   "execution_count": 30,
   "id": "674dc761-67e3-4a4c-9e29-979c02829c66",
   "metadata": {},
   "outputs": [
    {
     "name": "stdout",
     "output_type": "stream",
     "text": [
      "<class 'pandas.core.frame.DataFrame'>\n",
      "RangeIndex: 100 entries, 0 to 99\n",
      "Data columns (total 4 columns):\n",
      " #   Column       Non-Null Count  Dtype  \n",
      "---  ------       --------------  -----  \n",
      " 0   ProductID    100 non-null    object \n",
      " 1   ProductName  100 non-null    object \n",
      " 2   Category     100 non-null    object \n",
      " 3   Price        100 non-null    float64\n",
      "dtypes: float64(1), object(3)\n",
      "memory usage: 3.3+ KB\n"
     ]
    }
   ],
   "source": [
    "products.info()"
   ]
  },
  {
   "cell_type": "code",
   "execution_count": 32,
   "id": "2b78297c-7c1a-4013-bf14-9aeb44416b10",
   "metadata": {},
   "outputs": [
    {
     "data": {
      "text/plain": [
       "ProductID      0\n",
       "ProductName    0\n",
       "Category       0\n",
       "Price          0\n",
       "dtype: int64"
      ]
     },
     "execution_count": 32,
     "metadata": {},
     "output_type": "execute_result"
    }
   ],
   "source": [
    "products.isnull().sum()"
   ]
  },
  {
   "cell_type": "code",
   "execution_count": 34,
   "id": "7b64ff41-4323-4cf5-950f-a179b5189cee",
   "metadata": {},
   "outputs": [
    {
     "data": {
      "text/plain": [
       "count    100.000000\n",
       "mean     267.551700\n",
       "std      143.219383\n",
       "min       16.080000\n",
       "25%      147.767500\n",
       "50%      292.875000\n",
       "75%      397.090000\n",
       "max      497.760000\n",
       "Name: Price, dtype: float64"
      ]
     },
     "execution_count": 34,
     "metadata": {},
     "output_type": "execute_result"
    }
   ],
   "source": [
    "products['Price'].describe()"
   ]
  },
  {
   "cell_type": "markdown",
   "id": "e598a0de-578b-4c1a-8bf2-df1cc557595e",
   "metadata": {},
   "source": [
    "  #  Price range : $  16.08  to  $ 497.76 Average price : $267.55"
   ]
  },
  {
   "cell_type": "code",
   "execution_count": 42,
   "id": "9b283730-26c2-413b-bbfc-15201364f3eb",
   "metadata": {},
   "outputs": [
    {
     "data": {
      "text/plain": [
       "array(['Books', 'Electronics', 'Home Decor', 'Clothing'], dtype=object)"
      ]
     },
     "execution_count": 42,
     "metadata": {},
     "output_type": "execute_result"
    }
   ],
   "source": [
    "products['Category'].unique()"
   ]
  },
  {
   "cell_type": "code",
   "execution_count": 44,
   "id": "ce12eac7-efb5-4581-beea-ca30b257c7c8",
   "metadata": {},
   "outputs": [
    {
     "data": {
      "text/plain": [
       "Category\n",
       "Books          26\n",
       "Electronics    26\n",
       "Clothing       25\n",
       "Home Decor     23\n",
       "Name: count, dtype: int64"
      ]
     },
     "execution_count": 44,
     "metadata": {},
     "output_type": "execute_result"
    }
   ],
   "source": [
    "products['Category'].value_counts()"
   ]
  },
  {
   "cell_type": "code",
   "execution_count": 46,
   "id": "62dda9c0-997f-4109-b21d-9c50df804e5d",
   "metadata": {},
   "outputs": [
    {
     "name": "stderr",
     "output_type": "stream",
     "text": [
      "C:\\Users\\Lenovo\\AppData\\Local\\Temp\\ipykernel_68\\1199471144.py:2: FutureWarning: \n",
      "\n",
      "Passing `palette` without assigning `hue` is deprecated and will be removed in v0.14.0. Assign the `x` variable to `hue` and set `legend=False` for the same effect.\n",
      "\n",
      "  sns.countplot(data=products, x='Category', palette='muted', order=products['Category'].value_counts().index)\n"
     ]
    },
    {
     "data": {
      "image/png": "[encoded data removed]",
      "text/plain": [
       "<Figure size 800x500 with 1 Axes>"
      ]
     },
     "metadata": {},
     "output_type": "display_data"
    }
   ],
   "source": [
    "plt.figure(figsize=(8, 5))\n",
    "sns.countplot(data=products, x='Category', palette='muted', order=products['Category'].value_counts().index)\n",
    "plt.title('Product Distribution by Category', fontsize=14)\n",
    "plt.ylabel('Number of Products')\n",
    "plt.xlabel('Category')\n",
    "plt.show()"
   ]
  },
  {
   "cell_type": "markdown",
   "id": "3ebbc58a-84b0-4b48-aa51-776f6644d812",
   "metadata": {},
   "source": [
    "#  Product Distribution by Category:\n",
    "\n",
    "*  Books dominate the product categories, followed by Electronics, Clothing, and Home Decor."
   ]
  },
  {
   "cell_type": "code",
   "execution_count": 49,
   "id": "25645a0b-a10f-496d-a049-b07bb043391a",
   "metadata": {},
   "outputs": [
    {
     "data": {
      "text/html": [
       "<div>\n",
       "<style scoped>\n",
       "    .dataframe tbody tr th:only-of-type {\n",
       "        vertical-align: middle;\n",
       "    }\n",
       "\n",
       "    .dataframe tbody tr th {\n",
       "        vertical-align: top;\n",
       "    }\n",
       "\n",
       "    .dataframe thead th {\n",
       "        text-align: right;\n",
       "    }\n",
       "</style>\n",
       "<table border=\"1\" class=\"dataframe\">\n",
       "  <thead>\n",
       "    <tr style=\"text-align: right;\">\n",
       "      <th></th>\n",
       "      <th>count</th>\n",
       "      <th>unique</th>\n",
       "      <th>top</th>\n",
       "      <th>freq</th>\n",
       "      <th>mean</th>\n",
       "      <th>std</th>\n",
       "      <th>min</th>\n",
       "      <th>25%</th>\n",
       "      <th>50%</th>\n",
       "      <th>75%</th>\n",
       "      <th>max</th>\n",
       "    </tr>\n",
       "  </thead>\n",
       "  <tbody>\n",
       "    <tr>\n",
       "      <th>ProductID</th>\n",
       "      <td>100</td>\n",
       "      <td>100</td>\n",
       "      <td>P001</td>\n",
       "      <td>1</td>\n",
       "      <td>NaN</td>\n",
       "      <td>NaN</td>\n",
       "      <td>NaN</td>\n",
       "      <td>NaN</td>\n",
       "      <td>NaN</td>\n",
       "      <td>NaN</td>\n",
       "      <td>NaN</td>\n",
       "    </tr>\n",
       "    <tr>\n",
       "      <th>ProductName</th>\n",
       "      <td>100</td>\n",
       "      <td>66</td>\n",
       "      <td>ActiveWear Smartwatch</td>\n",
       "      <td>4</td>\n",
       "      <td>NaN</td>\n",
       "      <td>NaN</td>\n",
       "      <td>NaN</td>\n",
       "      <td>NaN</td>\n",
       "      <td>NaN</td>\n",
       "      <td>NaN</td>\n",
       "      <td>NaN</td>\n",
       "    </tr>\n",
       "    <tr>\n",
       "      <th>Category</th>\n",
       "      <td>100</td>\n",
       "      <td>4</td>\n",
       "      <td>Books</td>\n",
       "      <td>26</td>\n",
       "      <td>NaN</td>\n",
       "      <td>NaN</td>\n",
       "      <td>NaN</td>\n",
       "      <td>NaN</td>\n",
       "      <td>NaN</td>\n",
       "      <td>NaN</td>\n",
       "      <td>NaN</td>\n",
       "    </tr>\n",
       "    <tr>\n",
       "      <th>Price</th>\n",
       "      <td>100.0</td>\n",
       "      <td>NaN</td>\n",
       "      <td>NaN</td>\n",
       "      <td>NaN</td>\n",
       "      <td>267.5517</td>\n",
       "      <td>143.219383</td>\n",
       "      <td>16.08</td>\n",
       "      <td>147.7675</td>\n",
       "      <td>292.875</td>\n",
       "      <td>397.09</td>\n",
       "      <td>497.76</td>\n",
       "    </tr>\n",
       "  </tbody>\n",
       "</table>\n",
       "</div>"
      ],
      "text/plain": [
       "             count unique                    top freq      mean         std  \\\n",
       "ProductID      100    100                   P001    1       NaN         NaN   \n",
       "ProductName    100     66  ActiveWear Smartwatch    4       NaN         NaN   \n",
       "Category       100      4                  Books   26       NaN         NaN   \n",
       "Price        100.0    NaN                    NaN  NaN  267.5517  143.219383   \n",
       "\n",
       "               min       25%      50%     75%     max  \n",
       "ProductID      NaN       NaN      NaN     NaN     NaN  \n",
       "ProductName    NaN       NaN      NaN     NaN     NaN  \n",
       "Category       NaN       NaN      NaN     NaN     NaN  \n",
       "Price        16.08  147.7675  292.875  397.09  497.76  "
      ]
     },
     "execution_count": 49,
     "metadata": {},
     "output_type": "execute_result"
    }
   ],
   "source": [
    "products.describe(include='all').T"
   ]
  },
  {
   "cell_type": "markdown",
   "id": "e7a6d045-67b3-479f-9bcc-eabbc447393b",
   "metadata": {},
   "source": [
    "#  EDA of Transactions"
   ]
  },
  {
   "cell_type": "code",
   "execution_count": 52,
   "id": "4be26640-0590-4343-98c7-a055deeeb6fe",
   "metadata": {},
   "outputs": [
    {
     "data": {
      "text/html": [
       "<div>\n",
       "<style scoped>\n",
       "    .dataframe tbody tr th:only-of-type {\n",
       "        vertical-align: middle;\n",
       "    }\n",
       "\n",
       "    .dataframe tbody tr th {\n",
       "        vertical-align: top;\n",
       "    }\n",
       "\n",
       "    .dataframe thead th {\n",
       "        text-align: right;\n",
       "    }\n",
       "</style>\n",
       "<table border=\"1\" class=\"dataframe\">\n",
       "  <thead>\n",
       "    <tr style=\"text-align: right;\">\n",
       "      <th></th>\n",
       "      <th>TransactionID</th>\n",
       "      <th>CustomerID</th>\n",
       "      <th>ProductID</th>\n",
       "      <th>TransactionDate</th>\n",
       "      <th>Quantity</th>\n",
       "      <th>TotalValue</th>\n",
       "      <th>Price</th>\n",
       "    </tr>\n",
       "  </thead>\n",
       "  <tbody>\n",
       "    <tr>\n",
       "      <th>0</th>\n",
       "      <td>T00001</td>\n",
       "      <td>C0199</td>\n",
       "      <td>P067</td>\n",
       "      <td>2024-08-25 12:38:23</td>\n",
       "      <td>1</td>\n",
       "      <td>300.68</td>\n",
       "      <td>300.68</td>\n",
       "    </tr>\n",
       "    <tr>\n",
       "      <th>1</th>\n",
       "      <td>T00112</td>\n",
       "      <td>C0146</td>\n",
       "      <td>P067</td>\n",
       "      <td>2024-05-27 22:23:54</td>\n",
       "      <td>1</td>\n",
       "      <td>300.68</td>\n",
       "      <td>300.68</td>\n",
       "    </tr>\n",
       "    <tr>\n",
       "      <th>2</th>\n",
       "      <td>T00166</td>\n",
       "      <td>C0127</td>\n",
       "      <td>P067</td>\n",
       "      <td>2024-04-25 07:38:55</td>\n",
       "      <td>1</td>\n",
       "      <td>300.68</td>\n",
       "      <td>300.68</td>\n",
       "    </tr>\n",
       "    <tr>\n",
       "      <th>3</th>\n",
       "      <td>T00272</td>\n",
       "      <td>C0087</td>\n",
       "      <td>P067</td>\n",
       "      <td>2024-03-26 22:55:37</td>\n",
       "      <td>2</td>\n",
       "      <td>601.36</td>\n",
       "      <td>300.68</td>\n",
       "    </tr>\n",
       "    <tr>\n",
       "      <th>4</th>\n",
       "      <td>T00363</td>\n",
       "      <td>C0070</td>\n",
       "      <td>P067</td>\n",
       "      <td>2024-03-21 15:10:10</td>\n",
       "      <td>3</td>\n",
       "      <td>902.04</td>\n",
       "      <td>300.68</td>\n",
       "    </tr>\n",
       "  </tbody>\n",
       "</table>\n",
       "</div>"
      ],
      "text/plain": [
       "  TransactionID CustomerID ProductID      TransactionDate  Quantity  \\\n",
       "0        T00001      C0199      P067  2024-08-25 12:38:23         1   \n",
       "1        T00112      C0146      P067  2024-05-27 22:23:54         1   \n",
       "2        T00166      C0127      P067  2024-04-25 07:38:55         1   \n",
       "3        T00272      C0087      P067  2024-03-26 22:55:37         2   \n",
       "4        T00363      C0070      P067  2024-03-21 15:10:10         3   \n",
       "\n",
       "   TotalValue   Price  \n",
       "0      300.68  300.68  \n",
       "1      300.68  300.68  \n",
       "2      300.68  300.68  \n",
       "3      601.36  300.68  \n",
       "4      902.04  300.68  "
      ]
     },
     "execution_count": 52,
     "metadata": {},
     "output_type": "execute_result"
    }
   ],
   "source": [
    "transactions.head()"
   ]
  },
  {
   "cell_type": "code",
   "execution_count": 54,
   "id": "2fdba4ef-fcb3-4288-88be-d4c7c2ea3704",
   "metadata": {},
   "outputs": [
    {
     "data": {
      "text/plain": [
       "(1000, 7)"
      ]
     },
     "execution_count": 54,
     "metadata": {},
     "output_type": "execute_result"
    }
   ],
   "source": [
    "transactions.shape"
   ]
  },
  {
   "cell_type": "code",
   "execution_count": 56,
   "id": "4687c67c-510b-470c-ac08-86078d0578d7",
   "metadata": {},
   "outputs": [
    {
     "name": "stdout",
     "output_type": "stream",
     "text": [
      "<class 'pandas.core.frame.DataFrame'>\n",
      "RangeIndex: 1000 entries, 0 to 999\n",
      "Data columns (total 7 columns):\n",
      " #   Column           Non-Null Count  Dtype  \n",
      "---  ------           --------------  -----  \n",
      " 0   TransactionID    1000 non-null   object \n",
      " 1   CustomerID       1000 non-null   object \n",
      " 2   ProductID        1000 non-null   object \n",
      " 3   TransactionDate  1000 non-null   object \n",
      " 4   Quantity         1000 non-null   int64  \n",
      " 5   TotalValue       1000 non-null   float64\n",
      " 6   Price            1000 non-null   float64\n",
      "dtypes: float64(2), int64(1), object(4)\n",
      "memory usage: 54.8+ KB\n"
     ]
    }
   ],
   "source": [
    "transactions.info()"
   ]
  },
  {
   "cell_type": "code",
   "execution_count": 58,
   "id": "d78b7a20-1ca1-49ca-b58b-e05867024da4",
   "metadata": {},
   "outputs": [
    {
     "data": {
      "text/plain": [
       "TransactionID      0\n",
       "CustomerID         0\n",
       "ProductID          0\n",
       "TransactionDate    0\n",
       "Quantity           0\n",
       "TotalValue         0\n",
       "Price              0\n",
       "dtype: int64"
      ]
     },
     "execution_count": 58,
     "metadata": {},
     "output_type": "execute_result"
    }
   ],
   "source": [
    "transactions.isnull().sum()"
   ]
  },
  {
   "cell_type": "code",
   "execution_count": 60,
   "id": "15966b7a-e89d-4c21-b666-10fbfad8a1c7",
   "metadata": {},
   "outputs": [
    {
     "data": {
      "text/plain": [
       "count    1000.000000\n",
       "mean      689.995560\n",
       "std       493.144478\n",
       "min        16.080000\n",
       "25%       295.295000\n",
       "50%       588.880000\n",
       "75%      1011.660000\n",
       "max      1991.040000\n",
       "Name: TotalValue, dtype: float64"
      ]
     },
     "execution_count": 60,
     "metadata": {},
     "output_type": "execute_result"
    }
   ],
   "source": [
    "transactions['TotalValue'].describe()"
   ]
  },
  {
   "cell_type": "markdown",
   "id": "f3b66462-df58-4717-8097-a55a116b9e93",
   "metadata": {},
   "source": [
    "#  Total transaction values range from $16.08 to $1991.04."
   ]
  },
  {
   "cell_type": "code",
   "execution_count": 63,
   "id": "346c72e6-2f16-4b4b-9b30-76200e274fcd",
   "metadata": {},
   "outputs": [],
   "source": [
    "transactions['TransactionDate'] = pd.to_datetime(transactions['TransactionDate'], errors='coerce')"
   ]
  },
  {
   "cell_type": "code",
   "execution_count": 65,
   "id": "2509ea58-0c33-4334-9a46-85ae2043fb66",
   "metadata": {},
   "outputs": [],
   "source": [
    "transactions['TransactionMonth'] = transactions['TransactionDate'].dt.to_period('M') # Monthly Transaction Trends\n",
    "monthly_trends = transactions.groupby('TransactionMonth').size()"
   ]
  },
  {
   "cell_type": "code",
   "execution_count": 67,
   "id": "01996fea-700e-478a-a813-aa1976651fe6",
   "metadata": {},
   "outputs": [
    {
     "data": {
      "image/png": "[encoded data removed]",
      "text/plain": [
       "<Figure size 1000x600 with 1 Axes>"
      ]
     },
     "metadata": {},
     "output_type": "display_data"
    }
   ],
   "source": [
    "plt.figure(figsize=(10, 6))\n",
    "monthly_trends.plot(kind='line', marker='o', color='teal')\n",
    "plt.title('Monthly Transaction Trends', fontsize=14)\n",
    "plt.ylabel('Number of Transactions')\n",
    "plt.xlabel('Month')\n",
    "plt.xticks(rotation=45)\n",
    "plt.grid(True)\n",
    "plt.show()"
   ]
  },
  {
   "cell_type": "markdown",
   "id": "ca5dd3f4-b00f-4556-9ec6-7bd9e58921c9",
   "metadata": {},
   "source": [
    "# Monthly Transaction Trends:\n",
    "\n",
    "*  Transaction activity varies over time, with noticeable peaks in specific months, indicating potential seasonality."
   ]
  },
  {
   "cell_type": "markdown",
   "id": "af8e4de6-d1d5-4283-9952-8b2bfba56cf0",
   "metadata": {},
   "source": [
    "High-Value Customers"
   ]
  },
  {
   "cell_type": "code",
   "execution_count": 72,
   "id": "bc32bfa0-b1cb-497e-b105-1a8b1819fee3",
   "metadata": {},
   "outputs": [
    {
     "data": {
      "text/plain": [
       "CustomerID\n",
       "C0141    10673.87\n",
       "C0054     8040.39\n",
       "C0065     7663.70\n",
       "C0156     7634.45\n",
       "C0082     7572.91\n",
       "C0188     7111.32\n",
       "C0059     7073.28\n",
       "C0028     6819.57\n",
       "C0099     6715.72\n",
       "C0165     6708.10\n",
       "Name: TotalValue, dtype: float64"
      ]
     },
     "execution_count": 72,
     "metadata": {},
     "output_type": "execute_result"
    }
   ],
   "source": [
    "customer_values = transactions.groupby('CustomerID')['TotalValue'].sum().sort_values(ascending=False)\n",
    "customer_values.head(10) # Top 10 most Valuable customer"
   ]
  },
  {
   "cell_type": "markdown",
   "id": "72a48db0-532b-4c7f-a62c-e9a4de62b1df",
   "metadata": {},
   "source": [
    "Underperforming Products"
   ]
  },
  {
   "cell_type": "code",
   "execution_count": 75,
   "id": "1aa73a5c-a7ad-4e66-b446-2e982eb5182c",
   "metadata": {},
   "outputs": [
    {
     "data": {
      "text/plain": [
       "ProductID\n",
       "P031    9\n",
       "Name: Quantity, dtype: int64"
      ]
     },
     "execution_count": 75,
     "metadata": {},
     "output_type": "execute_result"
    }
   ],
   "source": [
    "product_sales = transactions.groupby('ProductID')['Quantity'].sum()\n",
    "underperforming_products = product_sales[product_sales == product_sales.min()]\n",
    "underperforming_products"
   ]
  },
  {
   "cell_type": "markdown",
   "id": "88f00315-f488-4575-a88f-6b6c17e987ac",
   "metadata": {},
   "source": [
    "Regional Price Sensitivity"
   ]
  },
  {
   "cell_type": "code",
   "execution_count": 78,
   "id": "bfeebbd9-88e2-442b-b832-422a370e6e2d",
   "metadata": {},
   "outputs": [
    {
     "data": {
      "text/plain": [
       "Region\n",
       "South America    721.554474\n",
       "Europe           710.489872\n",
       "Asia             697.591606\n",
       "North America    624.235246\n",
       "Name: TotalValue, dtype: float64"
      ]
     },
     "execution_count": 78,
     "metadata": {},
     "output_type": "execute_result"
    }
   ],
   "source": [
    "regional_prices = transactions.merge(customers, on='CustomerID').groupby('Region')['TotalValue'].mean().sort_values(ascending=False)\n",
    "regional_prices"
   ]
  },
  {
   "cell_type": "markdown",
   "id": "0e930828-8e90-4561-aa0d-7ec139de3aad",
   "metadata": {},
   "source": [
    "Repeat Purchase Behavior"
   ]
  },
  {
   "cell_type": "code",
   "execution_count": 81,
   "id": "926e3190-01bc-4034-8c77-1c527fdd06a6",
   "metadata": {},
   "outputs": [
    {
     "data": {
      "text/plain": [
       "CustomerID\n",
       "C0156    11\n",
       "C0109    11\n",
       "C0175    10\n",
       "C0141    10\n",
       "C0065    10\n",
       "Name: TransactionID, dtype: int64"
      ]
     },
     "execution_count": 81,
     "metadata": {},
     "output_type": "execute_result"
    }
   ],
   "source": [
    "repeat_purchases = transactions.groupby('CustomerID')['TransactionID'].count().sort_values(ascending=False)\n",
    "repeat_purchases.head()"
   ]
  },
  {
   "cell_type": "markdown",
   "id": "59080a89-a24d-4b65-8728-b140edc5edfa",
   "metadata": {},
   "source": [
    "Category Popularity by Region"
   ]
  },
  {
   "cell_type": "code",
   "execution_count": 84,
   "id": "3f5c606c-a242-435f-a675-c9f784930318",
   "metadata": {},
   "outputs": [],
   "source": [
    "category_sales_region = transactions.merge(products, on='ProductID').merge(customers, on='CustomerID')\n",
    "category_popularity = category_sales_region.groupby(['Region', 'Category'])['Quantity'].sum().unstack().fillna(0)"
   ]
  },
  {
   "cell_type": "code",
   "execution_count": 86,
   "id": "56f26ad9-5120-43ef-b307-8ef7852ea2f9",
   "metadata": {},
   "outputs": [
    {
     "data": {
      "image/png": "[encoded data removed]",
      "text/plain": [
       "<Figure size 1000x600 with 2 Axes>"
      ]
     },
     "metadata": {},
     "output_type": "display_data"
    }
   ],
   "source": [
    "plt.figure(figsize=(10, 6))\n",
    "sns.heatmap(category_popularity, annot=True, cmap='Blues', fmt='g', cbar_kws={'label': 'Total Quantity Sold'},)\n",
    "plt.title('Sales Quantity by Product Category and Region',fontsize=14)\n",
    "plt.xlabel('Category')\n",
    "plt.ylabel('Region')\n",
    "plt.show()"
   ]
  },
  {
   "cell_type": "markdown",
   "id": "bc103b7d-3803-4693-b258-edb39013163a",
   "metadata": {},
   "source": [
    "Seasonal Product Demand"
   ]
  },
  {
   "cell_type": "code",
   "execution_count": 89,
   "id": "ca8585a7-abe0-4b53-a079-179af39e398c",
   "metadata": {},
   "outputs": [],
   "source": [
    "transactions['Month'] = transactions['TransactionDate'].dt.month\n",
    "monthly_demand_by_category = transactions.merge(products, on='ProductID') \\\n",
    "    .groupby(['Month', 'Category'])['Quantity'].sum().unstack().fillna(0)"
   ]
  },
  {
   "cell_type": "code",
   "execution_count": 91,
   "id": "20e48022-711a-479c-9dbd-ad62f3ba080f",
   "metadata": {},
   "outputs": [
    {
     "data": {
      "text/plain": [
       "<Figure size 1200x600 with 0 Axes>"
      ]
     },
     "metadata": {},
     "output_type": "display_data"
    },
    {
     "data": {
      "image/png": "[encoded data removed]",
      "text/plain": [
       "<Figure size 640x480 with 1 Axes>"
      ]
     },
     "metadata": {},
     "output_type": "display_data"
    }
   ],
   "source": [
    "import matplotlib.pyplot as plt\n",
    "\n",
    "# Plotting the monthly demand by category\n",
    "plt.figure(figsize=(12,6))\n",
    "monthly_demand_by_category.plot(kind='bar', stacked=False)\n",
    "\n",
    "plt.title('Monthly Demand by Product Category',fontsize=14)\n",
    "plt.xlabel('Month')\n",
    "plt.ylabel('Total Quantity Sold')\n",
    "plt.xticks(rotation=0)  # Keeping months horizontal for readability\n",
    "plt.legend(title='Category')\n",
    "plt.grid(True)\n",
    "plt.show()"
   ]
  },
  {
   "cell_type": "code",
   "execution_count": null,
   "id": "32c2289c-389f-4dcd-834c-c2aa553b8f15",
   "metadata": {},
   "outputs": [],
   "source": []
  }
 ],
 "metadata": {
  "kernelspec": {
   "display_name": "Python [conda env:base] *",
   "language": "python",
   "name": "conda-base-py"
  },
  "language_info": {
   "codemirror_mode": {
    "name": "ipython",
    "version": 3
   },
   "file_extension": ".py",
   "mimetype": "text/x-python",
   "name": "python",
   "nbconvert_exporter": "python",
   "pygments_lexer": "ipython3",
   "version": "3.12.7"
  }
 },
 "nbformat": 4,
 "nbformat_minor": 5
}
