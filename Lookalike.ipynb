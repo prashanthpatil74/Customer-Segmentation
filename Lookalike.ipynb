{
 "cells": [
  {
   "cell_type": "code",
   "execution_count": 2,
   "id": "6d910f41-b755-4995-9beb-98146b568d59",
   "metadata": {},
   "outputs": [],
   "source": [
    "import pandas as pd\n",
    "from sklearn.preprocessing import StandardScaler\n",
    "from sklearn.metrics.pairwise import cosine_similarity"
   ]
  },
  {
   "cell_type": "code",
   "execution_count": 4,
   "id": "c2ea07c8-dfc2-4b35-b5f8-c43e03f20770",
   "metadata": {},
   "outputs": [],
   "source": [
    "customers = pd.read_csv(\"P:\\\\Downloads\\\\Customers.csv\")\n",
    "products = pd.read_csv(\"P:\\\\Downloads\\\\Products.csv\")\n",
    "transactions = pd.read_csv(\"P:\\\\Downloads\\\\Transactions.csv\")"
   ]
  },
  {
   "cell_type": "markdown",
   "id": "0a6b144e-08de-47d2-a7c1-1e5232706664",
   "metadata": {},
   "source": [
    "#  Preprocessing\n",
    "Merge transactions with customers and products"
   ]
  },
  {
   "cell_type": "code",
   "execution_count": 7,
   "id": "6b5f6040-a997-4b5d-91ac-c53126723319",
   "metadata": {},
   "outputs": [],
   "source": [
    "merged = pd.merge(transactions, customers, on='CustomerID')\n",
    "merged = pd.merge(merged, products, on='ProductID')"
   ]
  },
  {
   "cell_type": "code",
   "execution_count": 9,
   "id": "146f9a2f-c517-4131-bf2a-8c142da2aa94",
   "metadata": {},
   "outputs": [
    {
     "data": {
      "text/plain": [
       "Index(['TransactionID', 'CustomerID', 'ProductID', 'TransactionDate',\n",
       "       'Quantity', 'TotalValue', 'Price_x', 'CustomerName', 'Region',\n",
       "       'SignupDate', 'ProductName', 'Category', 'Price_y'],\n",
       "      dtype='object')"
      ]
     },
     "execution_count": 9,
     "metadata": {},
     "output_type": "execute_result"
    }
   ],
   "source": [
    "merged.columns"
   ]
  },
  {
   "cell_type": "code",
   "execution_count": 11,
   "id": "90a1c439-6a60-499d-aadb-e4ee94c50ddb",
   "metadata": {},
   "outputs": [
    {
     "data": {
      "text/html": [
       "<div>\n",
       "<style scoped>\n",
       "    .dataframe tbody tr th:only-of-type {\n",
       "        vertical-align: middle;\n",
       "    }\n",
       "\n",
       "    .dataframe tbody tr th {\n",
       "        vertical-align: top;\n",
       "    }\n",
       "\n",
       "    .dataframe thead th {\n",
       "        text-align: right;\n",
       "    }\n",
       "</style>\n",
       "<table border=\"1\" class=\"dataframe\">\n",
       "  <thead>\n",
       "    <tr style=\"text-align: right;\">\n",
       "      <th></th>\n",
       "      <th>TransactionID</th>\n",
       "      <th>CustomerID</th>\n",
       "      <th>ProductID</th>\n",
       "      <th>TransactionDate</th>\n",
       "      <th>Quantity</th>\n",
       "      <th>TotalValue</th>\n",
       "      <th>Price_x</th>\n",
       "      <th>CustomerName</th>\n",
       "      <th>Region</th>\n",
       "      <th>SignupDate</th>\n",
       "      <th>ProductName</th>\n",
       "      <th>Category</th>\n",
       "      <th>Price_y</th>\n",
       "    </tr>\n",
       "  </thead>\n",
       "  <tbody>\n",
       "    <tr>\n",
       "      <th>0</th>\n",
       "      <td>T00001</td>\n",
       "      <td>C0199</td>\n",
       "      <td>P067</td>\n",
       "      <td>2024-08-25 12:38:23</td>\n",
       "      <td>1</td>\n",
       "      <td>300.68</td>\n",
       "      <td>300.68</td>\n",
       "      <td>Andrea Jenkins</td>\n",
       "      <td>Europe</td>\n",
       "      <td>2022-12-03</td>\n",
       "      <td>ComfortLiving Bluetooth Speaker</td>\n",
       "      <td>Electronics</td>\n",
       "      <td>300.68</td>\n",
       "    </tr>\n",
       "    <tr>\n",
       "      <th>1</th>\n",
       "      <td>T00112</td>\n",
       "      <td>C0146</td>\n",
       "      <td>P067</td>\n",
       "      <td>2024-05-27 22:23:54</td>\n",
       "      <td>1</td>\n",
       "      <td>300.68</td>\n",
       "      <td>300.68</td>\n",
       "      <td>Brittany Harvey</td>\n",
       "      <td>Asia</td>\n",
       "      <td>2024-09-04</td>\n",
       "      <td>ComfortLiving Bluetooth Speaker</td>\n",
       "      <td>Electronics</td>\n",
       "      <td>300.68</td>\n",
       "    </tr>\n",
       "    <tr>\n",
       "      <th>2</th>\n",
       "      <td>T00166</td>\n",
       "      <td>C0127</td>\n",
       "      <td>P067</td>\n",
       "      <td>2024-04-25 07:38:55</td>\n",
       "      <td>1</td>\n",
       "      <td>300.68</td>\n",
       "      <td>300.68</td>\n",
       "      <td>Kathryn Stevens</td>\n",
       "      <td>Europe</td>\n",
       "      <td>2024-04-04</td>\n",
       "      <td>ComfortLiving Bluetooth Speaker</td>\n",
       "      <td>Electronics</td>\n",
       "      <td>300.68</td>\n",
       "    </tr>\n",
       "    <tr>\n",
       "      <th>3</th>\n",
       "      <td>T00272</td>\n",
       "      <td>C0087</td>\n",
       "      <td>P067</td>\n",
       "      <td>2024-03-26 22:55:37</td>\n",
       "      <td>2</td>\n",
       "      <td>601.36</td>\n",
       "      <td>300.68</td>\n",
       "      <td>Travis Campbell</td>\n",
       "      <td>South America</td>\n",
       "      <td>2024-04-11</td>\n",
       "      <td>ComfortLiving Bluetooth Speaker</td>\n",
       "      <td>Electronics</td>\n",
       "      <td>300.68</td>\n",
       "    </tr>\n",
       "    <tr>\n",
       "      <th>4</th>\n",
       "      <td>T00363</td>\n",
       "      <td>C0070</td>\n",
       "      <td>P067</td>\n",
       "      <td>2024-03-21 15:10:10</td>\n",
       "      <td>3</td>\n",
       "      <td>902.04</td>\n",
       "      <td>300.68</td>\n",
       "      <td>Timothy Perez</td>\n",
       "      <td>Europe</td>\n",
       "      <td>2022-03-15</td>\n",
       "      <td>ComfortLiving Bluetooth Speaker</td>\n",
       "      <td>Electronics</td>\n",
       "      <td>300.68</td>\n",
       "    </tr>\n",
       "  </tbody>\n",
       "</table>\n",
       "</div>"
      ],
      "text/plain": [
       "  TransactionID CustomerID ProductID      TransactionDate  Quantity  \\\n",
       "0        T00001      C0199      P067  2024-08-25 12:38:23         1   \n",
       "1        T00112      C0146      P067  2024-05-27 22:23:54         1   \n",
       "2        T00166      C0127      P067  2024-04-25 07:38:55         1   \n",
       "3        T00272      C0087      P067  2024-03-26 22:55:37         2   \n",
       "4        T00363      C0070      P067  2024-03-21 15:10:10         3   \n",
       "\n",
       "   TotalValue  Price_x     CustomerName         Region  SignupDate  \\\n",
       "0      300.68   300.68   Andrea Jenkins         Europe  2022-12-03   \n",
       "1      300.68   300.68  Brittany Harvey           Asia  2024-09-04   \n",
       "2      300.68   300.68  Kathryn Stevens         Europe  2024-04-04   \n",
       "3      601.36   300.68  Travis Campbell  South America  2024-04-11   \n",
       "4      902.04   300.68    Timothy Perez         Europe  2022-03-15   \n",
       "\n",
       "                       ProductName     Category  Price_y  \n",
       "0  ComfortLiving Bluetooth Speaker  Electronics   300.68  \n",
       "1  ComfortLiving Bluetooth Speaker  Electronics   300.68  \n",
       "2  ComfortLiving Bluetooth Speaker  Electronics   300.68  \n",
       "3  ComfortLiving Bluetooth Speaker  Electronics   300.68  \n",
       "4  ComfortLiving Bluetooth Speaker  Electronics   300.68  "
      ]
     },
     "execution_count": 11,
     "metadata": {},
     "output_type": "execute_result"
    }
   ],
   "source": [
    "merged.head()"
   ]
  },
  {
   "cell_type": "code",
   "execution_count": 13,
   "id": "6ad4894d-c62a-4a09-9d40-54e46e1cfa99",
   "metadata": {},
   "outputs": [],
   "source": [
    "customer_profiles = merged.groupby('CustomerID').agg({\n",
    "    'TotalValue': 'sum',                   # Total spending\n",
    "    'Quantity': 'sum',                     # Total quantity purchased\n",
    "    'Price_y': 'mean',                     # Average price of products bought (from the 'Products' dataset)\n",
    "    'Category': lambda x: x.mode()[0],     # Most purchased category\n",
    "    'Region': 'first'                      # Customer's region\n",
    "}).reset_index()"
   ]
  },
  {
   "cell_type": "markdown",
   "id": "b5b2b8b2-622a-4f7d-ac2a-84561a6e69e9",
   "metadata": {},
   "source": [
    "One-hot encode categorical columns (Category and Region)"
   ]
  },
  {
   "cell_type": "code",
   "execution_count": 16,
   "id": "93b171f8-476a-4109-96e8-ec7a96b8b6e6",
   "metadata": {},
   "outputs": [],
   "source": [
    "customer_profiles = pd.get_dummies(customer_profiles, columns=['Category', 'Region'])"
   ]
  },
  {
   "cell_type": "markdown",
   "id": "350dc9bf-0c61-441b-85ab-5b1a61e4f44c",
   "metadata": {},
   "source": [
    "Normalize numerical features"
   ]
  },
  {
   "cell_type": "code",
   "execution_count": 19,
   "id": "56cc4502-94ba-4f32-b10e-fd08a3c2d383",
   "metadata": {},
   "outputs": [],
   "source": [
    "scaler = StandardScaler()\n",
    "numerical_features = ['TotalValue', 'Quantity', 'Price_y']\n",
    "customer_profiles[numerical_features] = scaler.fit_transform(customer_profiles[numerical_features])"
   ]
  },
  {
   "cell_type": "markdown",
   "id": "8c8b94e9-b159-4ce1-a017-7f9c4de99650",
   "metadata": {},
   "source": [
    "Compute Cosine Similarity"
   ]
  },
  {
   "cell_type": "code",
   "execution_count": 22,
   "id": "38d2e12e-4aa3-4bd5-bd30-e773a029863a",
   "metadata": {},
   "outputs": [],
   "source": [
    "customer_ids = customer_profiles['CustomerID']\n",
    "feature_matrix = customer_profiles.drop('CustomerID', axis=1)\n",
    "\n",
    "similarity_matrix = cosine_similarity(feature_matrix)"
   ]
  },
  {
   "cell_type": "markdown",
   "id": "8e873cf0-3f36-41e4-8513-93fcf2da0cc0",
   "metadata": {},
   "source": [
    "Get the top 3 similar customers for each customer"
   ]
  },
  {
   "cell_type": "code",
   "execution_count": 25,
   "id": "be64111a-c362-4ddc-8e30-b6cd4e4249d6",
   "metadata": {},
   "outputs": [],
   "source": [
    "lookalike_results = {}\n",
    "for idx, customer_id in enumerate(customer_ids):\n",
    "    similarity_scores = list(enumerate(similarity_matrix[idx]))\n",
    "    sorted_scores = sorted(similarity_scores, key=lambda x: x[1], reverse=True)[1:4]  # Exclude self-match\n",
    "    top_3 = [(customer_ids[i], score) for i, score in sorted_scores]\n",
    "    lookalike_results[customer_id] = top_3"
   ]
  },
  {
   "cell_type": "markdown",
   "id": "a855c407-e480-40d0-9f39-5817e6eeeca9",
   "metadata": {},
   "source": [
    "Prepare the output Lookalike.csv file"
   ]
  },
  {
   "cell_type": "code",
   "execution_count": 28,
   "id": "81c38c40-6028-45cd-9b04-08ba35a950f8",
   "metadata": {},
   "outputs": [],
   "source": [
    "output = []\n",
    "for customer_id, lookalikes in lookalike_results.items():\n",
    "    output.append({\n",
    "        'cust_id': customer_id,\n",
    "        'lookalikes': str([(l_id, round(score, 2)) for l_id, score in lookalikes])\n",
    "    })"
   ]
  },
  {
   "cell_type": "code",
   "execution_count": 32,
   "id": "0fcf8117-dffe-41cf-858d-dc4d5af1c185",
   "metadata": {},
   "outputs": [
    {
     "name": "stdout",
     "output_type": "stream",
     "text": [
      "Lookalike Model completed. Results saved to Lookalike.csv.\n"
     ]
    }
   ],
   "source": [
    "lookalike_df = pd.DataFrame(output)\n",
    "lookalike_df.to_csv(\"P:\\\\Downloads\\\\Lookalike.csv\", index=False)\n",
    "\n",
    "print(\"Lookalike Model completed. Results saved to Lookalike.csv.\")"
   ]
  },
  {
   "cell_type": "code",
   "execution_count": null,
   "id": "60e40a5e-6808-45cb-835c-e8b2f241fe26",
   "metadata": {},
   "outputs": [],
   "source": []
  }
 ],
 "metadata": {
  "kernelspec": {
   "display_name": "Python [conda env:base] *",
   "language": "python",
   "name": "conda-base-py"
  },
  "language_info": {
   "codemirror_mode": {
    "name": "ipython",
    "version": 3
   },
   "file_extension": ".py",
   "mimetype": "text/x-python",
   "name": "python",
   "nbconvert_exporter": "python",
   "pygments_lexer": "ipython3",
   "version": "3.12.7"
  }
 },
 "nbformat": 4,
 "nbformat_minor": 5
}
